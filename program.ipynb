{
 "cells": [
  {
   "cell_type": "code",
   "execution_count": 1,
   "id": "4487358e",
   "metadata": {},
   "outputs": [],
   "source": [
    "import math\n",
    "import numpy as np\n",
    "pdf=[[0,0.01,0.03,0.05,0.07,0.09],[0.01,0.02,0.04,0.05,0.06,0.08],[0.01,0.03,0.05,0.05,0.05,0.06],[0.01,0.02,0.04,0.06,0.06,0.05]]"
   ]
  },
  {
   "cell_type": "code",
   "execution_count": 2,
   "id": "daa2161e-9253-4958-8b79-e54e02b12a83",
   "metadata": {},
   "outputs": [],
   "source": [
    "p_x=np.sum(pdf,axis=0)\n",
    "p_y=np.sum(pdf,axis=1)"
   ]
  },
  {
   "cell_type": "code",
   "execution_count": 3,
   "id": "dd162645-795c-42c8-93d9-b70c49c57d66",
   "metadata": {},
   "outputs": [],
   "source": [
    "x=[0,1,2,3,4,5]\n",
    "y=[0,1,2,3]\n",
    "E_x=np.inner(x,p_x)\n",
    "E_y=np.inner(y,p_y)"
   ]
  },
  {
   "cell_type": "code",
   "execution_count": 4,
   "id": "096f98fa-c479-4f75-95ef-d73f4308ac0b",
   "metadata": {},
   "outputs": [],
   "source": [
    "E_x_2=np.inner(np.square(x),p_x)\n",
    "E_y_2=np.inner(np.square(y),p_y)"
   ]
  },
  {
   "cell_type": "code",
   "execution_count": 5,
   "id": "c3dd08a4-4ef2-45a4-9b4a-10a3abc83955",
   "metadata": {},
   "outputs": [],
   "source": [
    "variance_x=E_x_2-E_x**2\n",
    "variance_y=E_y_2-E_y**2\n",
    "sd_x=math.sqrt(variance_x)\n",
    "sd_y=math.sqrt(variance_y)"
   ]
  },
  {
   "cell_type": "code",
   "execution_count": 6,
   "id": "b81afcbc-c916-4b82-8c82-3d897e37c4cd",
   "metadata": {},
   "outputs": [],
   "source": [
    "E_x_y=0\n",
    "for i in range(4):\n",
    "    for j in range(6):\n",
    "        E_x_y=E_x_y+x[j]*y[i]*pdf[i][j]"
   ]
  },
  {
   "cell_type": "code",
   "execution_count": 7,
   "id": "89c6b326-f1f3-4716-98ee-77125358e4dc",
   "metadata": {},
   "outputs": [],
   "source": [
    "Covariance=E_x_y-(E_x*E_y)\n",
    "Covariance_coeff=Covariance/(sd_x*sd_y)"
   ]
  },
  {
   "cell_type": "code",
   "execution_count": 8,
   "id": "33136ce7-1dd4-4526-b150-8d30a7894647",
   "metadata": {},
   "outputs": [
    {
     "data": {
      "text/html": [
       "<div>\n",
       "<style scoped>\n",
       "    .dataframe tbody tr th:only-of-type {\n",
       "        vertical-align: middle;\n",
       "    }\n",
       "\n",
       "    .dataframe tbody tr th {\n",
       "        vertical-align: top;\n",
       "    }\n",
       "\n",
       "    .dataframe thead th {\n",
       "        text-align: right;\n",
       "    }\n",
       "</style>\n",
       "<table border=\"1\" class=\"dataframe\">\n",
       "  <thead>\n",
       "    <tr style=\"text-align: right;\">\n",
       "      <th></th>\n",
       "      <th>0</th>\n",
       "      <th>1</th>\n",
       "      <th>2</th>\n",
       "      <th>3</th>\n",
       "      <th>4</th>\n",
       "      <th>5</th>\n",
       "    </tr>\n",
       "  </thead>\n",
       "  <tbody>\n",
       "    <tr>\n",
       "      <th>0</th>\n",
       "      <td>0.00</td>\n",
       "      <td>0.01</td>\n",
       "      <td>0.03</td>\n",
       "      <td>0.05</td>\n",
       "      <td>0.07</td>\n",
       "      <td>0.09</td>\n",
       "    </tr>\n",
       "    <tr>\n",
       "      <th>1</th>\n",
       "      <td>0.01</td>\n",
       "      <td>0.02</td>\n",
       "      <td>0.04</td>\n",
       "      <td>0.05</td>\n",
       "      <td>0.06</td>\n",
       "      <td>0.08</td>\n",
       "    </tr>\n",
       "    <tr>\n",
       "      <th>2</th>\n",
       "      <td>0.01</td>\n",
       "      <td>0.03</td>\n",
       "      <td>0.05</td>\n",
       "      <td>0.05</td>\n",
       "      <td>0.05</td>\n",
       "      <td>0.06</td>\n",
       "    </tr>\n",
       "    <tr>\n",
       "      <th>3</th>\n",
       "      <td>0.01</td>\n",
       "      <td>0.02</td>\n",
       "      <td>0.04</td>\n",
       "      <td>0.06</td>\n",
       "      <td>0.06</td>\n",
       "      <td>0.05</td>\n",
       "    </tr>\n",
       "  </tbody>\n",
       "</table>\n",
       "</div>"
      ],
      "text/plain": [
       "      0     1     2     3     4     5\n",
       "0  0.00  0.01  0.03  0.05  0.07  0.09\n",
       "1  0.01  0.02  0.04  0.05  0.06  0.08\n",
       "2  0.01  0.03  0.05  0.05  0.05  0.06\n",
       "3  0.01  0.02  0.04  0.06  0.06  0.05"
      ]
     },
     "metadata": {},
     "output_type": "display_data"
    },
    {
     "name": "stdout",
     "output_type": "stream",
     "text": [
      "Variance of X:\t\t\t\t 1.9578999999999986\n",
      "Variance of Y:\t\t\t\t 1.2296\n",
      "Standard deviation of X:\t\t 1.399249798999449\n",
      "Standard deviation of Y:\t\t 1.108873302050329\n",
      "Covariance:\t\t\t\t -0.2572\n",
      "Covariance Coefficient of Corelation:\t -0.1658\n"
     ]
    }
   ],
   "source": [
    "import pandas as pd\n",
    "pdf_df=pd.DataFrame(pdf)\n",
    "display(pdf_df)\n",
    "print(\"Variance of X:\\t\\t\\t\\t\",variance_x)\n",
    "print(\"Variance of Y:\\t\\t\\t\\t\",variance_y)\n",
    "print(\"Standard deviation of X:\\t\\t\",sd_x)\n",
    "print(\"Standard deviation of Y:\\t\\t\",sd_y)\n",
    "print(\"Covariance:\\t\\t\\t\\t\",Covariance.round(4))\n",
    "print(\"Covariance Coefficient of Corelation:\\t\",Covariance_coeff.round(4))"
   ]
  },
  {
   "cell_type": "code",
   "execution_count": null,
   "id": "8b1555b6-17ca-42fd-9c72-ca60aa9f4f58",
   "metadata": {},
   "outputs": [],
   "source": []
  }
 ],
 "metadata": {
  "interpreter": {
   "hash": "5c3c20d661c225f56c31cb7e3c3e4e216d31a5890816f8c2234433aeff4b2f1b"
  },
  "kernelspec": {
   "display_name": "Python 3.9.12 64-bit (windows store)",
   "language": "python",
   "name": "python3"
  },
  "language_info": {
   "codemirror_mode": {
    "name": "ipython",
    "version": 3
   },
   "file_extension": ".py",
   "mimetype": "text/x-python",
   "name": "python",
   "nbconvert_exporter": "python",
   "pygments_lexer": "ipython3",
   "version": "3.9.12"
  }
 },
 "nbformat": 4,
 "nbformat_minor": 5
}
